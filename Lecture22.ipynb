{
 "cells": [
  {
   "cell_type": "code",
   "execution_count": 1,
   "metadata": {
    "collapsed": true
   },
   "outputs": [],
   "source": [
    "import numpy as np\n",
    "import pandas as pd\n",
    "from pandas import Series, DataFrame"
   ]
  },
  {
   "cell_type": "code",
   "execution_count": 2,
   "metadata": {
    "collapsed": true
   },
   "outputs": [],
   "source": [
    "arr = np.array([[1,2,np.nan],[np.nan,3,4]])"
   ]
  },
  {
   "cell_type": "code",
   "execution_count": 3,
   "metadata": {
    "collapsed": false
   },
   "outputs": [
    {
     "data": {
      "text/html": [
       "<div>\n",
       "<table border=\"1\" class=\"dataframe\">\n",
       "  <thead>\n",
       "    <tr style=\"text-align: right;\">\n",
       "      <th></th>\n",
       "      <th>One</th>\n",
       "      <th>Two</th>\n",
       "      <th>Three</th>\n",
       "    </tr>\n",
       "  </thead>\n",
       "  <tbody>\n",
       "    <tr>\n",
       "      <th>A</th>\n",
       "      <td>1</td>\n",
       "      <td>2</td>\n",
       "      <td>NaN</td>\n",
       "    </tr>\n",
       "    <tr>\n",
       "      <th>B</th>\n",
       "      <td>NaN</td>\n",
       "      <td>3</td>\n",
       "      <td>4</td>\n",
       "    </tr>\n",
       "  </tbody>\n",
       "</table>\n",
       "</div>"
      ],
      "text/plain": [
       "   One  Two  Three\n",
       "A    1    2    NaN\n",
       "B  NaN    3      4"
      ]
     },
     "execution_count": 3,
     "metadata": {},
     "output_type": "execute_result"
    }
   ],
   "source": [
    "df1 = DataFrame(arr, index=['A','B'],columns=['One','Two','Three'])\n",
    "df1"
   ]
  },
  {
   "cell_type": "code",
   "execution_count": 4,
   "metadata": {
    "collapsed": false
   },
   "outputs": [
    {
     "data": {
      "text/plain": [
       "One      1\n",
       "Two      5\n",
       "Three    4\n",
       "dtype: float64"
      ]
     },
     "execution_count": 4,
     "metadata": {},
     "output_type": "execute_result"
    }
   ],
   "source": [
    "df1.sum()"
   ]
  },
  {
   "cell_type": "code",
   "execution_count": 5,
   "metadata": {
    "collapsed": false
   },
   "outputs": [
    {
     "data": {
      "text/plain": [
       "A    3\n",
       "B    7\n",
       "dtype: float64"
      ]
     },
     "execution_count": 5,
     "metadata": {},
     "output_type": "execute_result"
    }
   ],
   "source": [
    "df1.sum(axis=1)"
   ]
  },
  {
   "cell_type": "code",
   "execution_count": 6,
   "metadata": {
    "collapsed": false
   },
   "outputs": [
    {
     "data": {
      "text/plain": [
       "One      1\n",
       "Two      2\n",
       "Three    4\n",
       "dtype: float64"
      ]
     },
     "execution_count": 6,
     "metadata": {},
     "output_type": "execute_result"
    }
   ],
   "source": [
    "df1.min()"
   ]
  },
  {
   "cell_type": "code",
   "execution_count": 8,
   "metadata": {
    "collapsed": false
   },
   "outputs": [
    {
     "data": {
      "text/plain": [
       "One      A\n",
       "Two      A\n",
       "Three    B\n",
       "dtype: object"
      ]
     },
     "execution_count": 8,
     "metadata": {},
     "output_type": "execute_result"
    }
   ],
   "source": [
    "df1.idxmin()"
   ]
  },
  {
   "cell_type": "code",
   "execution_count": 9,
   "metadata": {
    "collapsed": false
   },
   "outputs": [
    {
     "data": {
      "text/html": [
       "<div>\n",
       "<table border=\"1\" class=\"dataframe\">\n",
       "  <thead>\n",
       "    <tr style=\"text-align: right;\">\n",
       "      <th></th>\n",
       "      <th>One</th>\n",
       "      <th>Two</th>\n",
       "      <th>Three</th>\n",
       "    </tr>\n",
       "  </thead>\n",
       "  <tbody>\n",
       "    <tr>\n",
       "      <th>A</th>\n",
       "      <td>1</td>\n",
       "      <td>2</td>\n",
       "      <td>NaN</td>\n",
       "    </tr>\n",
       "    <tr>\n",
       "      <th>B</th>\n",
       "      <td>NaN</td>\n",
       "      <td>5</td>\n",
       "      <td>4</td>\n",
       "    </tr>\n",
       "  </tbody>\n",
       "</table>\n",
       "</div>"
      ],
      "text/plain": [
       "   One  Two  Three\n",
       "A    1    2    NaN\n",
       "B  NaN    5      4"
      ]
     },
     "execution_count": 9,
     "metadata": {},
     "output_type": "execute_result"
    }
   ],
   "source": [
    "df1.cumsum()"
   ]
  },
  {
   "cell_type": "code",
   "execution_count": 10,
   "metadata": {
    "collapsed": false
   },
   "outputs": [
    {
     "data": {
      "text/html": [
       "<div>\n",
       "<table border=\"1\" class=\"dataframe\">\n",
       "  <thead>\n",
       "    <tr style=\"text-align: right;\">\n",
       "      <th></th>\n",
       "      <th>One</th>\n",
       "      <th>Two</th>\n",
       "      <th>Three</th>\n",
       "    </tr>\n",
       "  </thead>\n",
       "  <tbody>\n",
       "    <tr>\n",
       "      <th>count</th>\n",
       "      <td>1</td>\n",
       "      <td>2.000000</td>\n",
       "      <td>1</td>\n",
       "    </tr>\n",
       "    <tr>\n",
       "      <th>mean</th>\n",
       "      <td>1</td>\n",
       "      <td>2.500000</td>\n",
       "      <td>4</td>\n",
       "    </tr>\n",
       "    <tr>\n",
       "      <th>std</th>\n",
       "      <td>NaN</td>\n",
       "      <td>0.707107</td>\n",
       "      <td>NaN</td>\n",
       "    </tr>\n",
       "    <tr>\n",
       "      <th>min</th>\n",
       "      <td>1</td>\n",
       "      <td>2.000000</td>\n",
       "      <td>4</td>\n",
       "    </tr>\n",
       "    <tr>\n",
       "      <th>25%</th>\n",
       "      <td>1</td>\n",
       "      <td>2.250000</td>\n",
       "      <td>4</td>\n",
       "    </tr>\n",
       "    <tr>\n",
       "      <th>50%</th>\n",
       "      <td>1</td>\n",
       "      <td>2.500000</td>\n",
       "      <td>4</td>\n",
       "    </tr>\n",
       "    <tr>\n",
       "      <th>75%</th>\n",
       "      <td>1</td>\n",
       "      <td>2.750000</td>\n",
       "      <td>4</td>\n",
       "    </tr>\n",
       "    <tr>\n",
       "      <th>max</th>\n",
       "      <td>1</td>\n",
       "      <td>3.000000</td>\n",
       "      <td>4</td>\n",
       "    </tr>\n",
       "  </tbody>\n",
       "</table>\n",
       "</div>"
      ],
      "text/plain": [
       "       One       Two  Three\n",
       "count    1  2.000000      1\n",
       "mean     1  2.500000      4\n",
       "std    NaN  0.707107    NaN\n",
       "min      1  2.000000      4\n",
       "25%      1  2.250000      4\n",
       "50%      1  2.500000      4\n",
       "75%      1  2.750000      4\n",
       "max      1  3.000000      4"
      ]
     },
     "execution_count": 10,
     "metadata": {},
     "output_type": "execute_result"
    }
   ],
   "source": [
    "df1.describe()"
   ]
  },
  {
   "cell_type": "code",
   "execution_count": 11,
   "metadata": {
    "collapsed": true
   },
   "outputs": [],
   "source": [
    "from IPython.display import YouTubeVideo"
   ]
  },
  {
   "cell_type": "code",
   "execution_count": 12,
   "metadata": {
    "collapsed": true
   },
   "outputs": [],
   "source": [
    "import pandas.io.data as pdweb"
   ]
  },
  {
   "cell_type": "code",
   "execution_count": 13,
   "metadata": {
    "collapsed": true
   },
   "outputs": [],
   "source": [
    "import datetime"
   ]
  },
  {
   "cell_type": "code",
   "execution_count": 14,
   "metadata": {
    "collapsed": true
   },
   "outputs": [],
   "source": [
    "prices = pdweb.get_data_yahoo(['CVX','XOM','BP'],start=datetime.datetime(2010,1,1),\n",
    "                             end=datetime.datetime(2013,1,1))['Adj Close']"
   ]
  },
  {
   "cell_type": "code",
   "execution_count": 15,
   "metadata": {
    "collapsed": false
   },
   "outputs": [
    {
     "data": {
      "text/html": [
       "<div>\n",
       "<table border=\"1\" class=\"dataframe\">\n",
       "  <thead>\n",
       "    <tr style=\"text-align: right;\">\n",
       "      <th></th>\n",
       "      <th>BP</th>\n",
       "      <th>CVX</th>\n",
       "      <th>XOM</th>\n",
       "    </tr>\n",
       "    <tr>\n",
       "      <th>Date</th>\n",
       "      <th></th>\n",
       "      <th></th>\n",
       "      <th></th>\n",
       "    </tr>\n",
       "  </thead>\n",
       "  <tbody>\n",
       "    <tr>\n",
       "      <th>2010-01-04</th>\n",
       "      <td>46.315434</td>\n",
       "      <td>64.697761</td>\n",
       "      <td>59.215446</td>\n",
       "    </tr>\n",
       "    <tr>\n",
       "      <th>2010-01-05</th>\n",
       "      <td>46.644300</td>\n",
       "      <td>65.156034</td>\n",
       "      <td>59.446653</td>\n",
       "    </tr>\n",
       "    <tr>\n",
       "      <th>2010-01-06</th>\n",
       "      <td>46.887036</td>\n",
       "      <td>65.164213</td>\n",
       "      <td>59.960452</td>\n",
       "    </tr>\n",
       "    <tr>\n",
       "      <th>2010-01-07</th>\n",
       "      <td>46.871375</td>\n",
       "      <td>64.918715</td>\n",
       "      <td>59.772064</td>\n",
       "    </tr>\n",
       "    <tr>\n",
       "      <th>2010-01-08</th>\n",
       "      <td>46.980997</td>\n",
       "      <td>65.033282</td>\n",
       "      <td>59.532285</td>\n",
       "    </tr>\n",
       "  </tbody>\n",
       "</table>\n",
       "</div>"
      ],
      "text/plain": [
       "                   BP        CVX        XOM\n",
       "Date                                       \n",
       "2010-01-04  46.315434  64.697761  59.215446\n",
       "2010-01-05  46.644300  65.156034  59.446653\n",
       "2010-01-06  46.887036  65.164213  59.960452\n",
       "2010-01-07  46.871375  64.918715  59.772064\n",
       "2010-01-08  46.980997  65.033282  59.532285"
      ]
     },
     "execution_count": 15,
     "metadata": {},
     "output_type": "execute_result"
    }
   ],
   "source": [
    "prices.head()"
   ]
  },
  {
   "cell_type": "code",
   "execution_count": 16,
   "metadata": {
    "collapsed": true
   },
   "outputs": [],
   "source": [
    "volume = pdweb.get_data_yahoo(['CVX','XOM','BP'], start=datetime.datetime(2010,1,1),\n",
    "                             end = datetime.datetime(2013,1,1))['Volume']"
   ]
  },
  {
   "cell_type": "code",
   "execution_count": 17,
   "metadata": {
    "collapsed": false
   },
   "outputs": [
    {
     "data": {
      "text/html": [
       "<div>\n",
       "<table border=\"1\" class=\"dataframe\">\n",
       "  <thead>\n",
       "    <tr style=\"text-align: right;\">\n",
       "      <th></th>\n",
       "      <th>BP</th>\n",
       "      <th>CVX</th>\n",
       "      <th>XOM</th>\n",
       "    </tr>\n",
       "    <tr>\n",
       "      <th>Date</th>\n",
       "      <th></th>\n",
       "      <th></th>\n",
       "      <th></th>\n",
       "    </tr>\n",
       "  </thead>\n",
       "  <tbody>\n",
       "    <tr>\n",
       "      <th>2010-01-04</th>\n",
       "      <td>3956100</td>\n",
       "      <td>10173800</td>\n",
       "      <td>27809100</td>\n",
       "    </tr>\n",
       "    <tr>\n",
       "      <th>2010-01-05</th>\n",
       "      <td>4109600</td>\n",
       "      <td>10593700</td>\n",
       "      <td>30174700</td>\n",
       "    </tr>\n",
       "    <tr>\n",
       "      <th>2010-01-06</th>\n",
       "      <td>6227900</td>\n",
       "      <td>11014600</td>\n",
       "      <td>35044700</td>\n",
       "    </tr>\n",
       "    <tr>\n",
       "      <th>2010-01-07</th>\n",
       "      <td>4431300</td>\n",
       "      <td>9626900</td>\n",
       "      <td>27192100</td>\n",
       "    </tr>\n",
       "    <tr>\n",
       "      <th>2010-01-08</th>\n",
       "      <td>3786100</td>\n",
       "      <td>5624300</td>\n",
       "      <td>24891800</td>\n",
       "    </tr>\n",
       "  </tbody>\n",
       "</table>\n",
       "</div>"
      ],
      "text/plain": [
       "                 BP       CVX       XOM\n",
       "Date                                   \n",
       "2010-01-04  3956100  10173800  27809100\n",
       "2010-01-05  4109600  10593700  30174700\n",
       "2010-01-06  6227900  11014600  35044700\n",
       "2010-01-07  4431300   9626900  27192100\n",
       "2010-01-08  3786100   5624300  24891800"
      ]
     },
     "execution_count": 17,
     "metadata": {},
     "output_type": "execute_result"
    }
   ],
   "source": [
    "volume.head()"
   ]
  },
  {
   "cell_type": "code",
   "execution_count": 18,
   "metadata": {
    "collapsed": false
   },
   "outputs": [
    {
     "data": {
      "text/html": [
       "<div>\n",
       "<table border=\"1\" class=\"dataframe\">\n",
       "  <thead>\n",
       "    <tr style=\"text-align: right;\">\n",
       "      <th></th>\n",
       "      <th>BP</th>\n",
       "      <th>CVX</th>\n",
       "      <th>XOM</th>\n",
       "    </tr>\n",
       "    <tr>\n",
       "      <th>Date</th>\n",
       "      <th></th>\n",
       "      <th></th>\n",
       "      <th></th>\n",
       "    </tr>\n",
       "  </thead>\n",
       "  <tbody>\n",
       "    <tr>\n",
       "      <th>2010-01-04</th>\n",
       "      <td>NaN</td>\n",
       "      <td>NaN</td>\n",
       "      <td>NaN</td>\n",
       "    </tr>\n",
       "    <tr>\n",
       "      <th>2010-01-05</th>\n",
       "      <td>0.007101</td>\n",
       "      <td>0.007083</td>\n",
       "      <td>0.003905</td>\n",
       "    </tr>\n",
       "    <tr>\n",
       "      <th>2010-01-06</th>\n",
       "      <td>0.005204</td>\n",
       "      <td>0.000126</td>\n",
       "      <td>0.008643</td>\n",
       "    </tr>\n",
       "    <tr>\n",
       "      <th>2010-01-07</th>\n",
       "      <td>-0.000334</td>\n",
       "      <td>-0.003767</td>\n",
       "      <td>-0.003142</td>\n",
       "    </tr>\n",
       "    <tr>\n",
       "      <th>2010-01-08</th>\n",
       "      <td>0.002339</td>\n",
       "      <td>0.001765</td>\n",
       "      <td>-0.004012</td>\n",
       "    </tr>\n",
       "    <tr>\n",
       "      <th>2010-01-11</th>\n",
       "      <td>0.031500</td>\n",
       "      <td>0.017742</td>\n",
       "      <td>0.011220</td>\n",
       "    </tr>\n",
       "    <tr>\n",
       "      <th>2010-01-12</th>\n",
       "      <td>-0.006301</td>\n",
       "      <td>-0.005811</td>\n",
       "      <td>-0.004979</td>\n",
       "    </tr>\n",
       "    <tr>\n",
       "      <th>2010-01-13</th>\n",
       "      <td>0.004878</td>\n",
       "      <td>-0.007586</td>\n",
       "      <td>-0.004003</td>\n",
       "    </tr>\n",
       "    <tr>\n",
       "      <th>2010-01-14</th>\n",
       "      <td>-0.001133</td>\n",
       "      <td>-0.003133</td>\n",
       "      <td>0.000144</td>\n",
       "    </tr>\n",
       "    <tr>\n",
       "      <th>2010-01-15</th>\n",
       "      <td>-0.001458</td>\n",
       "      <td>-0.004023</td>\n",
       "      <td>-0.008180</td>\n",
       "    </tr>\n",
       "    <tr>\n",
       "      <th>2010-01-19</th>\n",
       "      <td>0.011032</td>\n",
       "      <td>0.005680</td>\n",
       "      <td>0.002315</td>\n",
       "    </tr>\n",
       "    <tr>\n",
       "      <th>2010-01-20</th>\n",
       "      <td>-0.020218</td>\n",
       "      <td>-0.019202</td>\n",
       "      <td>-0.017901</td>\n",
       "    </tr>\n",
       "    <tr>\n",
       "      <th>2010-01-21</th>\n",
       "      <td>-0.024402</td>\n",
       "      <td>-0.024440</td>\n",
       "      <td>-0.019550</td>\n",
       "    </tr>\n",
       "    <tr>\n",
       "      <th>2010-01-22</th>\n",
       "      <td>-0.028538</td>\n",
       "      <td>-0.021642</td>\n",
       "      <td>-0.008995</td>\n",
       "    </tr>\n",
       "    <tr>\n",
       "      <th>2010-01-25</th>\n",
       "      <td>0.011750</td>\n",
       "      <td>-0.000536</td>\n",
       "      <td>-0.003782</td>\n",
       "    </tr>\n",
       "    <tr>\n",
       "      <th>2010-01-26</th>\n",
       "      <td>-0.001025</td>\n",
       "      <td>-0.005366</td>\n",
       "      <td>0.001063</td>\n",
       "    </tr>\n",
       "    <tr>\n",
       "      <th>2010-01-27</th>\n",
       "      <td>-0.007352</td>\n",
       "      <td>-0.006069</td>\n",
       "      <td>-0.005765</td>\n",
       "    </tr>\n",
       "    <tr>\n",
       "      <th>2010-01-28</th>\n",
       "      <td>-0.012573</td>\n",
       "      <td>-0.006241</td>\n",
       "      <td>-0.008850</td>\n",
       "    </tr>\n",
       "    <tr>\n",
       "      <th>2010-01-29</th>\n",
       "      <td>-0.021106</td>\n",
       "      <td>-0.015292</td>\n",
       "      <td>-0.008159</td>\n",
       "    </tr>\n",
       "    <tr>\n",
       "      <th>2010-02-01</th>\n",
       "      <td>0.019779</td>\n",
       "      <td>0.020244</td>\n",
       "      <td>0.027161</td>\n",
       "    </tr>\n",
       "    <tr>\n",
       "      <th>2010-02-02</th>\n",
       "      <td>-0.030928</td>\n",
       "      <td>0.011824</td>\n",
       "      <td>0.011786</td>\n",
       "    </tr>\n",
       "    <tr>\n",
       "      <th>2010-02-03</th>\n",
       "      <td>-0.005229</td>\n",
       "      <td>-0.016655</td>\n",
       "      <td>-0.005376</td>\n",
       "    </tr>\n",
       "    <tr>\n",
       "      <th>2010-02-04</th>\n",
       "      <td>-0.030633</td>\n",
       "      <td>-0.025133</td>\n",
       "      <td>-0.028228</td>\n",
       "    </tr>\n",
       "    <tr>\n",
       "      <th>2010-02-05</th>\n",
       "      <td>-0.005610</td>\n",
       "      <td>-0.002662</td>\n",
       "      <td>0.001236</td>\n",
       "    </tr>\n",
       "    <tr>\n",
       "      <th>2010-02-08</th>\n",
       "      <td>-0.014103</td>\n",
       "      <td>-0.014751</td>\n",
       "      <td>-0.000466</td>\n",
       "    </tr>\n",
       "    <tr>\n",
       "      <th>2010-02-09</th>\n",
       "      <td>0.022506</td>\n",
       "      <td>0.016826</td>\n",
       "      <td>0.013209</td>\n",
       "    </tr>\n",
       "    <tr>\n",
       "      <th>2010-02-10</th>\n",
       "      <td>0.000746</td>\n",
       "      <td>-0.007853</td>\n",
       "      <td>-0.005368</td>\n",
       "    </tr>\n",
       "    <tr>\n",
       "      <th>2010-02-11</th>\n",
       "      <td>0.021435</td>\n",
       "      <td>0.013852</td>\n",
       "      <td>0.006014</td>\n",
       "    </tr>\n",
       "    <tr>\n",
       "      <th>2010-02-12</th>\n",
       "      <td>-0.002372</td>\n",
       "      <td>-0.000563</td>\n",
       "      <td>-0.006744</td>\n",
       "    </tr>\n",
       "    <tr>\n",
       "      <th>2010-02-16</th>\n",
       "      <td>0.023413</td>\n",
       "      <td>0.027883</td>\n",
       "      <td>0.022839</td>\n",
       "    </tr>\n",
       "    <tr>\n",
       "      <th>...</th>\n",
       "      <td>...</td>\n",
       "      <td>...</td>\n",
       "      <td>...</td>\n",
       "    </tr>\n",
       "    <tr>\n",
       "      <th>2012-11-16</th>\n",
       "      <td>-0.006700</td>\n",
       "      <td>0.007676</td>\n",
       "      <td>0.003599</td>\n",
       "    </tr>\n",
       "    <tr>\n",
       "      <th>2012-11-19</th>\n",
       "      <td>0.029978</td>\n",
       "      <td>0.019043</td>\n",
       "      <td>0.014112</td>\n",
       "    </tr>\n",
       "    <tr>\n",
       "      <th>2012-11-20</th>\n",
       "      <td>-0.000243</td>\n",
       "      <td>-0.007571</td>\n",
       "      <td>-0.001939</td>\n",
       "    </tr>\n",
       "    <tr>\n",
       "      <th>2012-11-21</th>\n",
       "      <td>0.009219</td>\n",
       "      <td>0.005214</td>\n",
       "      <td>0.005829</td>\n",
       "    </tr>\n",
       "    <tr>\n",
       "      <th>2012-11-23</th>\n",
       "      <td>0.010096</td>\n",
       "      <td>0.013160</td>\n",
       "      <td>0.012271</td>\n",
       "    </tr>\n",
       "    <tr>\n",
       "      <th>2012-11-26</th>\n",
       "      <td>-0.009995</td>\n",
       "      <td>-0.004551</td>\n",
       "      <td>-0.005275</td>\n",
       "    </tr>\n",
       "    <tr>\n",
       "      <th>2012-11-27</th>\n",
       "      <td>-0.006010</td>\n",
       "      <td>-0.015335</td>\n",
       "      <td>-0.014331</td>\n",
       "    </tr>\n",
       "    <tr>\n",
       "      <th>2012-11-28</th>\n",
       "      <td>0.003144</td>\n",
       "      <td>0.021281</td>\n",
       "      <td>0.008586</td>\n",
       "    </tr>\n",
       "    <tr>\n",
       "      <th>2012-11-29</th>\n",
       "      <td>-0.004339</td>\n",
       "      <td>0.001989</td>\n",
       "      <td>0.000227</td>\n",
       "    </tr>\n",
       "    <tr>\n",
       "      <th>2012-11-30</th>\n",
       "      <td>0.011138</td>\n",
       "      <td>-0.000945</td>\n",
       "      <td>0.000227</td>\n",
       "    </tr>\n",
       "    <tr>\n",
       "      <th>2012-12-03</th>\n",
       "      <td>-0.013649</td>\n",
       "      <td>-0.009745</td>\n",
       "      <td>-0.006013</td>\n",
       "    </tr>\n",
       "    <tr>\n",
       "      <th>2012-12-04</th>\n",
       "      <td>-0.004613</td>\n",
       "      <td>-0.006688</td>\n",
       "      <td>-0.004794</td>\n",
       "    </tr>\n",
       "    <tr>\n",
       "      <th>2012-12-05</th>\n",
       "      <td>0.007561</td>\n",
       "      <td>0.011639</td>\n",
       "      <td>0.006193</td>\n",
       "    </tr>\n",
       "    <tr>\n",
       "      <th>2012-12-06</th>\n",
       "      <td>0.000000</td>\n",
       "      <td>0.012171</td>\n",
       "      <td>0.003078</td>\n",
       "    </tr>\n",
       "    <tr>\n",
       "      <th>2012-12-07</th>\n",
       "      <td>-0.005810</td>\n",
       "      <td>0.005073</td>\n",
       "      <td>0.006818</td>\n",
       "    </tr>\n",
       "    <tr>\n",
       "      <th>2012-12-10</th>\n",
       "      <td>-0.001948</td>\n",
       "      <td>-0.000280</td>\n",
       "      <td>-0.002144</td>\n",
       "    </tr>\n",
       "    <tr>\n",
       "      <th>2012-12-11</th>\n",
       "      <td>0.004391</td>\n",
       "      <td>0.007292</td>\n",
       "      <td>0.006560</td>\n",
       "    </tr>\n",
       "    <tr>\n",
       "      <th>2012-12-12</th>\n",
       "      <td>0.010930</td>\n",
       "      <td>0.003156</td>\n",
       "      <td>0.005169</td>\n",
       "    </tr>\n",
       "    <tr>\n",
       "      <th>2012-12-13</th>\n",
       "      <td>-0.003604</td>\n",
       "      <td>-0.001573</td>\n",
       "      <td>-0.009726</td>\n",
       "    </tr>\n",
       "    <tr>\n",
       "      <th>2012-12-14</th>\n",
       "      <td>-0.001929</td>\n",
       "      <td>-0.000834</td>\n",
       "      <td>-0.005645</td>\n",
       "    </tr>\n",
       "    <tr>\n",
       "      <th>2012-12-17</th>\n",
       "      <td>0.007731</td>\n",
       "      <td>0.007976</td>\n",
       "      <td>0.008969</td>\n",
       "    </tr>\n",
       "    <tr>\n",
       "      <th>2012-12-18</th>\n",
       "      <td>0.007432</td>\n",
       "      <td>0.013066</td>\n",
       "      <td>0.007764</td>\n",
       "    </tr>\n",
       "    <tr>\n",
       "      <th>2012-12-19</th>\n",
       "      <td>0.002142</td>\n",
       "      <td>-0.001726</td>\n",
       "      <td>-0.012506</td>\n",
       "    </tr>\n",
       "    <tr>\n",
       "      <th>2012-12-20</th>\n",
       "      <td>0.002850</td>\n",
       "      <td>0.004276</td>\n",
       "      <td>0.005088</td>\n",
       "    </tr>\n",
       "    <tr>\n",
       "      <th>2012-12-21</th>\n",
       "      <td>-0.002605</td>\n",
       "      <td>-0.006070</td>\n",
       "      <td>-0.018675</td>\n",
       "    </tr>\n",
       "    <tr>\n",
       "      <th>2012-12-24</th>\n",
       "      <td>-0.009497</td>\n",
       "      <td>-0.009844</td>\n",
       "      <td>-0.003554</td>\n",
       "    </tr>\n",
       "    <tr>\n",
       "      <th>2012-12-26</th>\n",
       "      <td>-0.000959</td>\n",
       "      <td>-0.001565</td>\n",
       "      <td>0.001726</td>\n",
       "    </tr>\n",
       "    <tr>\n",
       "      <th>2012-12-27</th>\n",
       "      <td>-0.001440</td>\n",
       "      <td>0.000553</td>\n",
       "      <td>-0.002412</td>\n",
       "    </tr>\n",
       "    <tr>\n",
       "      <th>2012-12-28</th>\n",
       "      <td>-0.009611</td>\n",
       "      <td>-0.019075</td>\n",
       "      <td>-0.020263</td>\n",
       "    </tr>\n",
       "    <tr>\n",
       "      <th>2012-12-31</th>\n",
       "      <td>0.010189</td>\n",
       "      <td>0.015876</td>\n",
       "      <td>0.017039</td>\n",
       "    </tr>\n",
       "  </tbody>\n",
       "</table>\n",
       "<p>754 rows × 3 columns</p>\n",
       "</div>"
      ],
      "text/plain": [
       "                  BP       CVX       XOM\n",
       "Date                                    \n",
       "2010-01-04       NaN       NaN       NaN\n",
       "2010-01-05  0.007101  0.007083  0.003905\n",
       "2010-01-06  0.005204  0.000126  0.008643\n",
       "2010-01-07 -0.000334 -0.003767 -0.003142\n",
       "2010-01-08  0.002339  0.001765 -0.004012\n",
       "2010-01-11  0.031500  0.017742  0.011220\n",
       "2010-01-12 -0.006301 -0.005811 -0.004979\n",
       "2010-01-13  0.004878 -0.007586 -0.004003\n",
       "2010-01-14 -0.001133 -0.003133  0.000144\n",
       "2010-01-15 -0.001458 -0.004023 -0.008180\n",
       "2010-01-19  0.011032  0.005680  0.002315\n",
       "2010-01-20 -0.020218 -0.019202 -0.017901\n",
       "2010-01-21 -0.024402 -0.024440 -0.019550\n",
       "2010-01-22 -0.028538 -0.021642 -0.008995\n",
       "2010-01-25  0.011750 -0.000536 -0.003782\n",
       "2010-01-26 -0.001025 -0.005366  0.001063\n",
       "2010-01-27 -0.007352 -0.006069 -0.005765\n",
       "2010-01-28 -0.012573 -0.006241 -0.008850\n",
       "2010-01-29 -0.021106 -0.015292 -0.008159\n",
       "2010-02-01  0.019779  0.020244  0.027161\n",
       "2010-02-02 -0.030928  0.011824  0.011786\n",
       "2010-02-03 -0.005229 -0.016655 -0.005376\n",
       "2010-02-04 -0.030633 -0.025133 -0.028228\n",
       "2010-02-05 -0.005610 -0.002662  0.001236\n",
       "2010-02-08 -0.014103 -0.014751 -0.000466\n",
       "2010-02-09  0.022506  0.016826  0.013209\n",
       "2010-02-10  0.000746 -0.007853 -0.005368\n",
       "2010-02-11  0.021435  0.013852  0.006014\n",
       "2010-02-12 -0.002372 -0.000563 -0.006744\n",
       "2010-02-16  0.023413  0.027883  0.022839\n",
       "...              ...       ...       ...\n",
       "2012-11-16 -0.006700  0.007676  0.003599\n",
       "2012-11-19  0.029978  0.019043  0.014112\n",
       "2012-11-20 -0.000243 -0.007571 -0.001939\n",
       "2012-11-21  0.009219  0.005214  0.005829\n",
       "2012-11-23  0.010096  0.013160  0.012271\n",
       "2012-11-26 -0.009995 -0.004551 -0.005275\n",
       "2012-11-27 -0.006010 -0.015335 -0.014331\n",
       "2012-11-28  0.003144  0.021281  0.008586\n",
       "2012-11-29 -0.004339  0.001989  0.000227\n",
       "2012-11-30  0.011138 -0.000945  0.000227\n",
       "2012-12-03 -0.013649 -0.009745 -0.006013\n",
       "2012-12-04 -0.004613 -0.006688 -0.004794\n",
       "2012-12-05  0.007561  0.011639  0.006193\n",
       "2012-12-06  0.000000  0.012171  0.003078\n",
       "2012-12-07 -0.005810  0.005073  0.006818\n",
       "2012-12-10 -0.001948 -0.000280 -0.002144\n",
       "2012-12-11  0.004391  0.007292  0.006560\n",
       "2012-12-12  0.010930  0.003156  0.005169\n",
       "2012-12-13 -0.003604 -0.001573 -0.009726\n",
       "2012-12-14 -0.001929 -0.000834 -0.005645\n",
       "2012-12-17  0.007731  0.007976  0.008969\n",
       "2012-12-18  0.007432  0.013066  0.007764\n",
       "2012-12-19  0.002142 -0.001726 -0.012506\n",
       "2012-12-20  0.002850  0.004276  0.005088\n",
       "2012-12-21 -0.002605 -0.006070 -0.018675\n",
       "2012-12-24 -0.009497 -0.009844 -0.003554\n",
       "2012-12-26 -0.000959 -0.001565  0.001726\n",
       "2012-12-27 -0.001440  0.000553 -0.002412\n",
       "2012-12-28 -0.009611 -0.019075 -0.020263\n",
       "2012-12-31  0.010189  0.015876  0.017039\n",
       "\n",
       "[754 rows x 3 columns]"
      ]
     },
     "execution_count": 18,
     "metadata": {},
     "output_type": "execute_result"
    }
   ],
   "source": [
    "rets = prices.pct_change()\n",
    "rets"
   ]
  },
  {
   "cell_type": "code",
   "execution_count": 19,
   "metadata": {
    "collapsed": false
   },
   "outputs": [
    {
     "data": {
      "text/html": [
       "<div>\n",
       "<table border=\"1\" class=\"dataframe\">\n",
       "  <thead>\n",
       "    <tr style=\"text-align: right;\">\n",
       "      <th></th>\n",
       "      <th>BP</th>\n",
       "      <th>CVX</th>\n",
       "      <th>XOM</th>\n",
       "    </tr>\n",
       "    <tr>\n",
       "      <th>Date</th>\n",
       "      <th></th>\n",
       "      <th></th>\n",
       "      <th></th>\n",
       "    </tr>\n",
       "  </thead>\n",
       "  <tbody>\n",
       "    <tr>\n",
       "      <th>2010-01-04</th>\n",
       "      <td>NaN</td>\n",
       "      <td>NaN</td>\n",
       "      <td>NaN</td>\n",
       "    </tr>\n",
       "    <tr>\n",
       "      <th>2010-01-05</th>\n",
       "      <td>0.007101</td>\n",
       "      <td>0.007083</td>\n",
       "      <td>0.003905</td>\n",
       "    </tr>\n",
       "    <tr>\n",
       "      <th>2010-01-06</th>\n",
       "      <td>0.005204</td>\n",
       "      <td>0.000126</td>\n",
       "      <td>0.008643</td>\n",
       "    </tr>\n",
       "    <tr>\n",
       "      <th>2010-01-07</th>\n",
       "      <td>-0.000334</td>\n",
       "      <td>-0.003767</td>\n",
       "      <td>-0.003142</td>\n",
       "    </tr>\n",
       "    <tr>\n",
       "      <th>2010-01-08</th>\n",
       "      <td>0.002339</td>\n",
       "      <td>0.001765</td>\n",
       "      <td>-0.004012</td>\n",
       "    </tr>\n",
       "  </tbody>\n",
       "</table>\n",
       "</div>"
      ],
      "text/plain": [
       "                  BP       CVX       XOM\n",
       "Date                                    \n",
       "2010-01-04       NaN       NaN       NaN\n",
       "2010-01-05  0.007101  0.007083  0.003905\n",
       "2010-01-06  0.005204  0.000126  0.008643\n",
       "2010-01-07 -0.000334 -0.003767 -0.003142\n",
       "2010-01-08  0.002339  0.001765 -0.004012"
      ]
     },
     "execution_count": 19,
     "metadata": {},
     "output_type": "execute_result"
    }
   ],
   "source": [
    "rets.head()"
   ]
  },
  {
   "cell_type": "code",
   "execution_count": 20,
   "metadata": {
    "collapsed": true
   },
   "outputs": [],
   "source": [
    "# Correlations of stocks\n",
    "corr = rets.corr"
   ]
  },
  {
   "cell_type": "code",
   "execution_count": 22,
   "metadata": {
    "collapsed": false
   },
   "outputs": [
    {
     "data": {
      "text/plain": [
       "<matplotlib.axes.AxesSubplot at 0x10f161890>"
      ]
     },
     "execution_count": 22,
     "metadata": {},
     "output_type": "execute_result"
    },
    {
     "data": {
      "image/png": "[encoded data removed]",
      "text/plain": [
       "<matplotlib.figure.Figure at 0x112c74310>"
      ]
     },
     "metadata": {},
     "output_type": "display_data"
    }
   ],
   "source": [
    "%matplotlib inline\n",
    "prices.plot()"
   ]
  },
  {
   "cell_type": "code",
   "execution_count": 23,
   "metadata": {
    "collapsed": true
   },
   "outputs": [],
   "source": [
    "import seaborn as sns\n",
    "import matplotlib.pyplot as plt\n"
   ]
  },
  {
   "cell_type": "code",
   "execution_count": 24,
   "metadata": {
    "collapsed": false
   },
   "outputs": [
    {
     "name": "stderr",
     "output_type": "stream",
     "text": [
      "/Library/Python/2.7/site-packages/seaborn/linearmodels.py:1283: UserWarning: The `corrplot` function has been deprecated in favor of `heatmap` and will be removed in a forthcoming release. Please update your code.\n",
      "  warnings.warn((\"The `corrplot` function has been deprecated in favor \"\n",
      "/Library/Python/2.7/site-packages/seaborn/linearmodels.py:1349: UserWarning: The `symmatplot` function has been deprecated in favor of `heatmap` and will be removed in a forthcoming release. Please update your code.\n",
      "  warnings.warn((\"The `symmatplot` function has been deprecated in favor \"\n"
     ]
    },
    {
     "data": {
      "text/plain": [
       "<matplotlib.axes.AxesSubplot at 0x113d9c690>"
      ]
     },
     "execution_count": 24,
     "metadata": {},
     "output_type": "execute_result"
    },
    {
     "data": {
      "image/png": "[encoded data removed]",
      "text/plain": [
       "<matplotlib.figure.Figure at 0x113d73550>"
      ]
     },
     "metadata": {},
     "output_type": "display_data"
    }
   ],
   "source": [
    "sns.corrplot(rets,annot=False, diag_names=False)"
   ]
  },
  {
   "cell_type": "code",
   "execution_count": 25,
   "metadata": {
    "collapsed": true
   },
   "outputs": [],
   "source": [
    "ser1 = Series(['w','w','x','u','z','a','u'])"
   ]
  },
  {
   "cell_type": "code",
   "execution_count": 26,
   "metadata": {
    "collapsed": false
   },
   "outputs": [
    {
     "data": {
      "text/plain": [
       "0    w\n",
       "1    w\n",
       "2    x\n",
       "3    u\n",
       "4    z\n",
       "5    a\n",
       "6    u\n",
       "dtype: object"
      ]
     },
     "execution_count": 26,
     "metadata": {},
     "output_type": "execute_result"
    }
   ],
   "source": [
    "ser1"
   ]
  },
  {
   "cell_type": "code",
   "execution_count": 27,
   "metadata": {
    "collapsed": false
   },
   "outputs": [
    {
     "data": {
      "text/plain": [
       "array(['w', 'x', 'u', 'z', 'a'], dtype=object)"
      ]
     },
     "execution_count": 27,
     "metadata": {},
     "output_type": "execute_result"
    }
   ],
   "source": [
    "ser1.unique()"
   ]
  },
  {
   "cell_type": "code",
   "execution_count": 28,
   "metadata": {
    "collapsed": false
   },
   "outputs": [
    {
     "data": {
      "text/plain": [
       "w    2\n",
       "u    2\n",
       "z    1\n",
       "x    1\n",
       "a    1\n",
       "dtype: int64"
      ]
     },
     "execution_count": 28,
     "metadata": {},
     "output_type": "execute_result"
    }
   ],
   "source": [
    "ser1.value_counts()"
   ]
  },
  {
   "cell_type": "code",
   "execution_count": null,
   "metadata": {
    "collapsed": true
   },
   "outputs": [],
   "source": []
  }
 ],
 "metadata": {
  "kernelspec": {
   "display_name": "Python 2",
   "language": "python",
   "name": "python2"
  },
  "language_info": {
   "codemirror_mode": {
    "name": "ipython",
    "version": 2
   },
   "file_extension": ".py",
   "mimetype": "text/x-python",
   "name": "python",
   "nbconvert_exporter": "python",
   "pygments_lexer": "ipython2",
   "version": "2.7.10"
  }
 },
 "nbformat": 4,
 "nbformat_minor": 0
}
